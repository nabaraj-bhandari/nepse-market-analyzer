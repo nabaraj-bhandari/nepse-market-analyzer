{
 "cells": [
  {
   "cell_type": "code",
   "execution_count": 11,
   "id": "908f0e1f-5ff7-4a16-8b95-4c0584140505",
   "metadata": {},
   "outputs": [],
   "source": [
    "import pandas as pd\n",
    "import numpy as np\n",
    "import matplotlib.pylab as plt \n",
    "import seaborn as sns\n",
    "plt.style.use('ggplot')\n",
    "pd.set_option('display.max_columns', None)"
   ]
  },
  {
   "cell_type": "code",
   "execution_count": 5,
   "id": "3657feda-21e9-4869-8fed-9f4c2e527aab",
   "metadata": {},
   "outputs": [],
   "source": [
    "df = pd.read_csv('./raw_csv/combined_market_data.csv')"
   ]
  },
  {
   "cell_type": "code",
   "execution_count": 6,
   "id": "3742498c-dc42-4069-a72e-294b929e6242",
   "metadata": {},
   "outputs": [
    {
     "data": {
      "text/plain": [
       "(6679, 22)"
      ]
     },
     "execution_count": 6,
     "metadata": {},
     "output_type": "execute_result"
    }
   ],
   "source": [
    "df.shape"
   ]
  },
  {
   "cell_type": "code",
   "execution_count": null,
   "id": "f393f166-c8b8-4b30-bf08-0470355a25f7",
   "metadata": {},
   "outputs": [],
   "source": [
    "df.head(30)"
   ]
  }
 ],
 "metadata": {
  "kernelspec": {
   "display_name": "Python 3 (ipykernel)",
   "language": "python",
   "name": "python3"
  },
  "language_info": {
   "codemirror_mode": {
    "name": "ipython",
    "version": 3
   },
   "file_extension": ".py",
   "mimetype": "text/x-python",
   "name": "python",
   "nbconvert_exporter": "python",
   "pygments_lexer": "ipython3",
   "version": "3.13.7"
  }
 },
 "nbformat": 4,
 "nbformat_minor": 5
}
